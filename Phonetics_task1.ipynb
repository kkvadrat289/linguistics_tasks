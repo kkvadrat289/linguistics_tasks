{
 "cells": [
  {
   "cell_type": "code",
   "execution_count": 9,
   "metadata": {},
   "outputs": [],
   "source": [
    "deaf_to_voiced = {\n",
    "    'p' : 'b',\n",
    "    't' : 'd',\n",
    "    'k' : 'g',\n",
    "    'f' : 'v',\n",
    "    's' : 'z',\n",
    "    'x' : 'y'   \n",
    "}\n",
    "\n",
    "voiced_to_deaf = { v : d for d, v in deaf_to_voiced.items()}\n",
    "\n",
    "consonants = list(deaf_to_voiced.keys()) + list(deaf_to_voiced.values())\n",
    "\n",
    "blocking_to_fricative = {\n",
    "    'p' : 'f',\n",
    "    't' : 's',\n",
    "    'k' : 'x',\n",
    "    'b' : 'v',\n",
    "    'd' : 'z',\n",
    "    'g' : 'y',\n",
    "}\n",
    "\n",
    "fricative_to_blocking = {f : b for b, f in blocking_to_fricative.items()}"
   ]
  },
  {
   "cell_type": "code",
   "execution_count": 28,
   "metadata": {},
   "outputs": [],
   "source": [
    "def rule_consonants_at_the_end(word):\n",
    "    index = 1\n",
    "    word = list(word)\n",
    "    while word[-index] in consonants:\n",
    "        if word[-index] in voiced_to_deaf.keys():\n",
    "            word[-index] = voiced_to_deaf[word[-index]]\n",
    "        index += 1\n",
    "    return ''.join(word)\n",
    "\n",
    "def rule_single_consonant(word):\n",
    "    word = list(word)\n",
    "    for index in range(1, len(word)):\n",
    "        if word[index] in consonants and word[index-1] == 'a' and (index == len(word) - 1 or word[index + 1] == 'a') and word[index] in blocking_to_fricative.keys():\n",
    "            word[index] = blocking_to_fricative[word[index]]\n",
    "    return ''.join(word)\n",
    "            \n",
    "def rule_consonant_group(word):\n",
    "    word = list(word)\n",
    "    index = len(word) - 1\n",
    "    while index >= 0:\n",
    "        if word[index] in consonants:\n",
    "            last_in_group = word[index]\n",
    "            index -= 1\n",
    "            while word[index] != 'a':\n",
    "                if last_in_group in deaf_to_voiced.keys() and word[index] in voiced_to_deaf.keys():\n",
    "                    word[index] = voiced_to_deaf[word[index]]\n",
    "                elif last_in_group in voiced_to_deaf.keys() and word[index] in deaf_to_voiced.keys():\n",
    "                    word[index] = deaf_to_voiced[word[index]]\n",
    "                index -= 1\n",
    "        index -= 1\n",
    "    return ''.join(word)"
   ]
  },
  {
   "cell_type": "code",
   "execution_count": 29,
   "metadata": {},
   "outputs": [
    {
     "data": {
      "text/plain": [
       "'aptax'"
      ]
     },
     "execution_count": 29,
     "metadata": {},
     "output_type": "execute_result"
    }
   ],
   "source": [
    "word = 'abtak'\n",
    "\n",
    "word = rule_consonants_at_the_end(word)\n",
    "word = rule_single_consonant(word)\n",
    "word = rule_consonant_group(word)\n",
    "word"
   ]
  }
 ],
 "metadata": {
  "kernelspec": {
   "display_name": "Python 3",
   "language": "python",
   "name": "python3"
  },
  "language_info": {
   "codemirror_mode": {
    "name": "ipython",
    "version": 3
   },
   "file_extension": ".py",
   "mimetype": "text/x-python",
   "name": "python",
   "nbconvert_exporter": "python",
   "pygments_lexer": "ipython3",
   "version": "3.6.4"
  }
 },
 "nbformat": 4,
 "nbformat_minor": 2
}
